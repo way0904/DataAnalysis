{
 "cells": [
  {
   "cell_type": "markdown",
   "metadata": {},
   "source": [
    "** 第一章主要进行了一些机器学习概念的讲解，章末的练习部分做出了非常好的提炼总结，我以问答的形式进行了总结，直接点击下面的链接就可以了**"
   ]
  },
  {
   "cell_type": "markdown",
   "metadata": {},
   "source": [
    "### Exercises\n",
    "在这一章当中 我们已经介绍了机器学习中一些最重要的概念。 在接下来的章节中，我们将深入探讨并编写更多代码，但在此之前，请确保您知道如何回答以下问题：https://www.jianshu.com/p/49bc29073904"
   ]
  },
  {
   "cell_type": "code",
   "execution_count": null,
   "metadata": {},
   "outputs": [],
   "source": []
  }
 ],
 "metadata": {
  "kernelspec": {
   "display_name": "Python 3",
   "language": "python",
   "name": "python3"
  },
  "language_info": {
   "codemirror_mode": {
    "name": "ipython",
    "version": 3
   },
   "file_extension": ".py",
   "mimetype": "text/x-python",
   "name": "python",
   "nbconvert_exporter": "python",
   "pygments_lexer": "ipython3",
   "version": "3.5.5"
  }
 },
 "nbformat": 4,
 "nbformat_minor": 2
}
