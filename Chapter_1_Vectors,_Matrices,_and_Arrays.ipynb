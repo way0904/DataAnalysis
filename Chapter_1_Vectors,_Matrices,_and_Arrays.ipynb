{
  "nbformat": 4,
  "nbformat_minor": 0,
  "metadata": {
    "kernelspec": {
      "name": "python3",
      "display_name": "Python 3"
    },
    "colab": {
      "name": "Chapter 1 - Vectors, Matrices, and Arrays.ipynb",
      "provenance": [],
      "toc_visible": true,
      "include_colab_link": true
    }
  },
  "cells": [
    {
      "cell_type": "markdown",
      "metadata": {
        "id": "view-in-github",
        "colab_type": "text"
      },
      "source": [
        "<a href=\"https://colab.research.google.com/github/way0904/DataAnalysis/blob/master/Chapter_1_Vectors%2C_Matrices%2C_and_Arrays.ipynb\" target=\"_parent\"><img src=\"https://colab.research.google.com/assets/colab-badge.svg\" alt=\"Open In Colab\"/></a>"
      ]
    },
    {
      "cell_type": "markdown",
      "metadata": {
        "id": "XmAtCt_7t410",
        "colab_type": "text"
      },
      "source": [
        "## Chapter 1\n",
        "\n",
        "# Vectors, Matrices, and Arrays\n",
        "\n",
        "### 1.0 Introduction\n",
        "Numpy is the foundation of the Python machine learning stack. It allows for efficient operations on the data structures often used in machine learning: vectors, matricies, and tensors.\n",
        "\n",
        "This chapter covers the most common NumPy operations we are likely to run into\n",
        "\n",
        "### 1.1 Creating a Vector\n",
        "#### Problem\n",
        "You need to create a vector\n",
        "#### Solution\n",
        "Use Numpy to create a one-dimensional array"
      ]
    },
    {
      "cell_type": "code",
      "metadata": {
        "id": "IIyfxSExt414",
        "colab_type": "code",
        "colab": {}
      },
      "source": [
        "# load library\n",
        "import numpy as np\n",
        "\n",
        "# create a vector as a row\n",
        "vector_row = np.array([1, 2, 3])\n",
        "\n",
        "# create a vetor as a column\n",
        "vector_column = np.array([[1],\n",
        "                          [2],\n",
        "                          [3]])"
      ],
      "execution_count": 0,
      "outputs": []
    },
    {
      "cell_type": "markdown",
      "metadata": {
        "id": "zPK4isNNt41_",
        "colab_type": "text"
      },
      "source": [
        "#### Discussion\n",
        "Numpy's main data structure is the multidimensional array\n",
        "\n",
        "#### See Also\n",
        "* Vectors, Math is Fun (https://www.mathsisfun.com/algebra/vectors.html)\n",
        "* Euclidian vector, Wikipedia (https://en.wikipedia.org/wiki/Euclidean_vector)\n",
        "\n",
        "### 1.2 Creating a Matrix\n",
        "\n",
        "#### Problem\n",
        "You need to create a matrix.\n",
        "\n",
        "#### Solution\n",
        "Use Numpy to create a two-dimensional array:"
      ]
    },
    {
      "cell_type": "code",
      "metadata": {
        "id": "Nt932BJet42B",
        "colab_type": "code",
        "colab": {}
      },
      "source": [
        "# load library\n",
        "import numpy as np\n",
        "\n",
        "# create a matrix\n",
        "matrix = np.array([[1, 2],\n",
        "                   [1, 2],\n",
        "                   [1, 2]])"
      ],
      "execution_count": 0,
      "outputs": []
    },
    {
      "cell_type": "markdown",
      "metadata": {
        "id": "8iAJQlI2t42F",
        "colab_type": "text"
      },
      "source": [
        "#### Discussion\n",
        "To create a matrix we can use a NumPy two-dimensional array. In our solution, the matrix contains three rows and two columns (a column of 1s and a column of 2s)\n",
        "\n",
        "NumPy actually has a dedicated matrix data structure:"
      ]
    },
    {
      "cell_type": "code",
      "metadata": {
        "id": "wUqwcVF4t42G",
        "colab_type": "code",
        "colab": {}
      },
      "source": [
        "matrix_object = np.mat([[1, 2],\n",
        "                        [1, 2],\n",
        "                        [1, 2]])"
      ],
      "execution_count": 0,
      "outputs": []
    },
    {
      "cell_type": "markdown",
      "metadata": {
        "id": "nhZaZK6tt42L",
        "colab_type": "text"
      },
      "source": [
        "However the matrix data structure is not recommended for two reaons. First, arrays are the de facto standard data structure of NumPy. Second the vast majority of NumPy operations return arrays, not matrix objects.\n",
        "\n",
        "#### See Also\n",
        "* Matrix, Wikipedia (https://en.wikipedia.org/wiki/Matrix_(mathematics)\n",
        "* Matrix, Wolfram MathWorld (http://mathworld.wolfram.com/Matrix.html)"
      ]
    },
    {
      "cell_type": "markdown",
      "metadata": {
        "id": "684Eho7Mt42N",
        "colab_type": "text"
      },
      "source": [
        "### 1.3 Creating a Sparse Matrix\n",
        "#### Problem\n",
        "Given data with very few nonzero values, you want to efficiently represent it.\n",
        "\n",
        "#### Solution\n",
        "Create a sparse matrix:"
      ]
    },
    {
      "cell_type": "code",
      "metadata": {
        "id": "U6b0j68At42O",
        "colab_type": "code",
        "colab": {}
      },
      "source": [
        "# load libraries\n",
        "import numpy as np\n",
        "from scipy import sparse\n",
        "\n",
        "# create a matrix\n",
        "matrix = np.array([[0, 0],\n",
        "                  [0, 1],\n",
        "                  [3, 0]])\n",
        "\n",
        "# create compressed sparse row (CSR) matrix\n",
        "matrix_sparse = sparse.csr_matrix(matrix)"
      ],
      "execution_count": 0,
      "outputs": []
    },
    {
      "cell_type": "markdown",
      "metadata": {
        "collapsed": true,
        "id": "sGHl_-x3t42S",
        "colab_type": "text"
      },
      "source": [
        "#### Discussion\n",
        "A frequent situation in machine learning is having a huge amount of data; however most of the elements in the data are zeros. For example, imagine a matrix where the columns are every movie on Netflix, the rows are every Netflix user, and the values are how many times a user has watched that particular movie. This matrix would have tens of thousands of columns and millions of rows! However, since most users do not watch most movies, the vast majority of elements would be zero.\n",
        "\n",
        "Sparse matricies only store nonzero elements and assume all other values will be zero, leading to significant computational savings. In our solution, we created a Numpy array with two nonzero values, then converted it into a sparse matrix. If we view the sparse matrix we can see that only the nonzero values are stored:"
      ]
    },
    {
      "cell_type": "code",
      "metadata": {
        "id": "ZqzzRUf8t42V",
        "colab_type": "code",
        "colab": {},
        "outputId": "56ef781c-284e-4288-ac8f-9e23c01c0369"
      },
      "source": [
        "# view sparse matrix\n",
        "print(matrix_sparse)"
      ],
      "execution_count": 0,
      "outputs": [
        {
          "output_type": "stream",
          "text": [
            "  (1, 1)\t1\n",
            "  (2, 0)\t3\n"
          ],
          "name": "stdout"
        }
      ]
    },
    {
      "cell_type": "markdown",
      "metadata": {
        "id": "f4mNNqMGt42b",
        "colab_type": "text"
      },
      "source": [
        "There are a number of types of sparse matrices. However, in compressed sparse row (CSR) matrices, (1, 1) and (2, 0) represent the (zero-indexed) indices of the non-zero values 1 and 3, respectively. For example, the element 1 is in the second row and second column. We can see the advantage of sparse matrices if we create a much larger matrix with many more zero elements and then compare this larger matrix with our original sparse matrix:"
      ]
    },
    {
      "cell_type": "code",
      "metadata": {
        "id": "05Sz9ZMbt42c",
        "colab_type": "code",
        "colab": {},
        "outputId": "43d1f5ca-079a-4349-fc52-07e9da8c6e23"
      },
      "source": [
        "# create larger matrix\n",
        "matrix_large = np.array([[0, 0, 0, 0, 0, 0, 0, 0, 0, 0],\n",
        "                         [0, 1, 0, 0, 0, 0, 0, 0, 0, 0],\n",
        "                         [3, 0, 0, 0, 0, 0, 0, 0, 0, 0]])\n",
        "\n",
        "# create compressed sparse row (CSR) matrix\n",
        "matrix_large_sparse = sparse.csr_matrix(matrix_large)\n",
        "\n",
        "# view original sparse matrix\n",
        "print(matrix_sparse)"
      ],
      "execution_count": 0,
      "outputs": [
        {
          "output_type": "stream",
          "text": [
            "  (1, 1)\t1\n",
            "  (2, 0)\t3\n"
          ],
          "name": "stdout"
        }
      ]
    },
    {
      "cell_type": "code",
      "metadata": {
        "id": "k-U_Z009t42h",
        "colab_type": "code",
        "colab": {},
        "outputId": "2f07bb84-c294-4c35-facc-5042e029a0bd"
      },
      "source": [
        "# view larger sparse matrix\n",
        "print(matrix_large_sparse)"
      ],
      "execution_count": 0,
      "outputs": [
        {
          "output_type": "stream",
          "text": [
            "  (1, 1)\t1\n",
            "  (2, 0)\t3\n"
          ],
          "name": "stdout"
        }
      ]
    },
    {
      "cell_type": "markdown",
      "metadata": {
        "id": "mX1SH5Cgt42l",
        "colab_type": "text"
      },
      "source": [
        "As we can see, despite the fact that we added many more zero elements in the larger matrix, its sparse representation is exactly the same as our original sparse matrix. That is, the addition of zero elements did not change the size of the sparse matrix.\n",
        "\n",
        "As mentioned, there are many different types of sparse matrices, such as compressed sparse column, list of lists, and dictionary of keys. While an explanation of the different types and their implications is outside the scope of this book, it is worth noting that while there is no “best” sparse matrix type, there are meaningful differences between them and we should be conscious about why we are choosing one type over another.\n",
        "\n",
        "#### See Also\n",
        "* Sparse matrices, SciPy documentation (https://docs.scipy.org/doc/scipy/reference/sparse.html)\n",
        "* 101 Ways to Store a Sparse Matrix (https://medium.com/@jmaxg3/101-ways-to-store-a-sparse-matrix-c7f2bf15a229)\n",
        "\n",
        "### 1.4 Selected Elements\n",
        "#### Problem\n",
        "You need to select one or more elements in a vector or matrix.\n",
        "\n",
        "#### Solution\n",
        "NumPy's arrays make that easy"
      ]
    },
    {
      "cell_type": "code",
      "metadata": {
        "id": "L1eJxWtTt42n",
        "colab_type": "code",
        "colab": {},
        "outputId": "34bb5a98-c6f3-4f6f-8ccd-395814b5d1cf"
      },
      "source": [
        "# load library\n",
        "import numpy as np\n",
        "\n",
        "# create row vector\n",
        "vector = np.array([1, 2, 3, 4, 5, 6])\n",
        "\n",
        "# create matrix\n",
        "matrix = np.array([[1, 2, 3],\n",
        "                   [4, 5, 6],\n",
        "                   [7, 8, 9]])\n",
        "\n",
        "# select the third element of vector\n",
        "vector[2]"
      ],
      "execution_count": 0,
      "outputs": [
        {
          "output_type": "execute_result",
          "data": {
            "text/plain": [
              "3"
            ]
          },
          "metadata": {
            "tags": []
          },
          "execution_count": 14
        }
      ]
    },
    {
      "cell_type": "code",
      "metadata": {
        "id": "HKF8jVz4t42r",
        "colab_type": "code",
        "colab": {},
        "outputId": "b4204cbc-998d-40c6-dd9b-a8fa0e47bd11"
      },
      "source": [
        "# select second row, second column\n",
        "matrix[1,1]"
      ],
      "execution_count": 0,
      "outputs": [
        {
          "output_type": "execute_result",
          "data": {
            "text/plain": [
              "5"
            ]
          },
          "metadata": {
            "tags": []
          },
          "execution_count": 15
        }
      ]
    },
    {
      "cell_type": "markdown",
      "metadata": {
        "id": "OBcrFzqAt42w",
        "colab_type": "text"
      },
      "source": [
        "#### Discussion\n",
        "Like most things in Python, NumPy arrays are zero-indexed, meaning that the index of the first element is 0, not 1. With that caveat, NumPy offers a wide variety of methods for selecting (i.e., indexing and slicing) elements or groups of elements in arrays:"
      ]
    },
    {
      "cell_type": "code",
      "metadata": {
        "id": "EnFJUcXft42x",
        "colab_type": "code",
        "colab": {},
        "outputId": "af3831f0-c468-44ad-ed24-8a2cea860a47"
      },
      "source": [
        "# Select all elements of a vector\n",
        "vector[:]"
      ],
      "execution_count": 0,
      "outputs": [
        {
          "output_type": "execute_result",
          "data": {
            "text/plain": [
              "array([1, 2, 3, 4, 5, 6])"
            ]
          },
          "metadata": {
            "tags": []
          },
          "execution_count": 16
        }
      ]
    },
    {
      "cell_type": "code",
      "metadata": {
        "id": "KU7Hc2_Yt421",
        "colab_type": "code",
        "colab": {},
        "outputId": "362525b7-9d21-4d55-c899-21aea7eab0e0"
      },
      "source": [
        "# select everything up to and including the third element\n",
        "vector[:3]"
      ],
      "execution_count": 0,
      "outputs": [
        {
          "output_type": "execute_result",
          "data": {
            "text/plain": [
              "array([1, 2, 3])"
            ]
          },
          "metadata": {
            "tags": []
          },
          "execution_count": 18
        }
      ]
    },
    {
      "cell_type": "code",
      "metadata": {
        "id": "4I5SDzlut425",
        "colab_type": "code",
        "colab": {},
        "outputId": "ff96656a-b1bc-414f-f4b1-0039fb24d4e4"
      },
      "source": [
        "# select the last element\n",
        "vector[-1]"
      ],
      "execution_count": 0,
      "outputs": [
        {
          "output_type": "execute_result",
          "data": {
            "text/plain": [
              "6"
            ]
          },
          "metadata": {
            "tags": []
          },
          "execution_count": 19
        }
      ]
    },
    {
      "cell_type": "code",
      "metadata": {
        "id": "2ikd0XyPt42-",
        "colab_type": "code",
        "colab": {},
        "outputId": "71c1c856-68fa-4daa-b831-d9c848bd815f"
      },
      "source": [
        "# select the first two rows and all columns of a matrix\n",
        "matrix[:2, :]"
      ],
      "execution_count": 0,
      "outputs": [
        {
          "output_type": "execute_result",
          "data": {
            "text/plain": [
              "array([[1, 2, 3],\n",
              "       [4, 5, 6]])"
            ]
          },
          "metadata": {
            "tags": []
          },
          "execution_count": 20
        }
      ]
    },
    {
      "cell_type": "code",
      "metadata": {
        "id": "gyDWvZOmt43F",
        "colab_type": "code",
        "colab": {},
        "outputId": "04e8d2db-b844-42b4-c111-d54d9dfda95c"
      },
      "source": [
        "# select all rows and the second column\n",
        "matrix[:,1:2]"
      ],
      "execution_count": 0,
      "outputs": [
        {
          "output_type": "execute_result",
          "data": {
            "text/plain": [
              "array([[2],\n",
              "       [5],\n",
              "       [8]])"
            ]
          },
          "metadata": {
            "tags": []
          },
          "execution_count": 22
        }
      ]
    },
    {
      "cell_type": "markdown",
      "metadata": {
        "id": "0Hp8xZRzt43K",
        "colab_type": "text"
      },
      "source": [
        "### 1.5 Describing a Matrix\n",
        "#### Problem\n",
        "You want to describe the shape, size, and dimensions of the matrix\n",
        "\n",
        "#### Solution\n",
        "Use shape, size, and ndim:"
      ]
    },
    {
      "cell_type": "code",
      "metadata": {
        "id": "vHJsfWsTt43M",
        "colab_type": "code",
        "colab": {},
        "outputId": "4dbc01f3-6793-4494-b158-81b0c2854eec"
      },
      "source": [
        "# load library\n",
        "import numpy as np\n",
        "\n",
        "# create matrix\n",
        "matrix = np.array([[1, 2, 3, 4],\n",
        "                   [5, 6, 7, 8],\n",
        "                   [9, 10, 11, 12]])\n",
        "\n",
        "# view number of rows and columns\n",
        "matrix.shape"
      ],
      "execution_count": 0,
      "outputs": [
        {
          "output_type": "execute_result",
          "data": {
            "text/plain": [
              "(3, 4)"
            ]
          },
          "metadata": {
            "tags": []
          },
          "execution_count": 24
        }
      ]
    },
    {
      "cell_type": "code",
      "metadata": {
        "id": "zWMWHvWMt43Q",
        "colab_type": "code",
        "colab": {},
        "outputId": "5fb313d4-c485-43d6-a988-ae05d6c1ea0b"
      },
      "source": [
        "# view number of elements (rows * columns)\n",
        "matrix.size"
      ],
      "execution_count": 0,
      "outputs": [
        {
          "output_type": "execute_result",
          "data": {
            "text/plain": [
              "12"
            ]
          },
          "metadata": {
            "tags": []
          },
          "execution_count": 25
        }
      ]
    },
    {
      "cell_type": "code",
      "metadata": {
        "id": "6Hzfo8KOt43V",
        "colab_type": "code",
        "colab": {},
        "outputId": "6f178f40-1565-4866-ffdd-0746b8eecb97"
      },
      "source": [
        "# view number of dimensions\n",
        "matrix.ndim"
      ],
      "execution_count": 0,
      "outputs": [
        {
          "output_type": "execute_result",
          "data": {
            "text/plain": [
              "2"
            ]
          },
          "metadata": {
            "tags": []
          },
          "execution_count": 26
        }
      ]
    },
    {
      "cell_type": "markdown",
      "metadata": {
        "id": "u93H6laVt43Z",
        "colab_type": "text"
      },
      "source": [
        "#### Discussion\n",
        "This might seem basic (and it is); however, time and again it will be valuable to check the shape and size of an array both for further calculations and simply as a gut check after some operation\n",
        "\n",
        "### 1.6 Applying Operations to Elements\n",
        "#### Problem\n",
        "You want to apply some function to multiple elements in an array.\n",
        "\n",
        "#### Solutions\n",
        "Use NumPy's vectorize:"
      ]
    },
    {
      "cell_type": "code",
      "metadata": {
        "id": "949_Sxuit43a",
        "colab_type": "code",
        "colab": {},
        "outputId": "8cde03ea-7cec-4326-cb83-1657dca6a12c"
      },
      "source": [
        "# load library\n",
        "import numpy as np\n",
        "\n",
        "# create matrix\n",
        "matrix = np.array([[1, 2, 3],\n",
        "                   [4, 5, 6],\n",
        "                   [7, 8, 9]])\n",
        "\n",
        "# create function that adds 1000 to something\n",
        "add_1000 = lambda i: i + 1000\n",
        "\n",
        "# create vectorized function\n",
        "vectorized_add_1000 = np.vectorize(add_1000)\n",
        "\n",
        "# apply function to all elementsin matrix\n",
        "vectorized_add_1000(matrix)"
      ],
      "execution_count": 0,
      "outputs": [
        {
          "output_type": "execute_result",
          "data": {
            "text/plain": [
              "array([[1001, 1002, 1003],\n",
              "       [1004, 1005, 1006],\n",
              "       [1007, 1008, 1009]])"
            ]
          },
          "metadata": {
            "tags": []
          },
          "execution_count": 27
        }
      ]
    },
    {
      "cell_type": "markdown",
      "metadata": {
        "id": "DZeE7rI1t43i",
        "colab_type": "text"
      },
      "source": [
        "#### Discusion\n",
        "NumPy’s vectorize class converts a function into a function that can apply to all elements in an array or slice of an array. It’s worth noting that vectorize is essentially a for loop over the elements and does not increase performance. Furthermore, NumPy arrays allow us to perform operations between arrays even if their dimensions are not the same (a process called broadcasting). For example, we can create a much simpler version of our solution using broadcasting:"
      ]
    },
    {
      "cell_type": "code",
      "metadata": {
        "id": "Canw9zDRt43j",
        "colab_type": "code",
        "colab": {},
        "outputId": "871d886d-a091-45c3-e515-5375410525da"
      },
      "source": [
        "# add 1000 to all elements\n",
        "matrix + 1000"
      ],
      "execution_count": 0,
      "outputs": [
        {
          "output_type": "execute_result",
          "data": {
            "text/plain": [
              "array([[1001, 1002, 1003],\n",
              "       [1004, 1005, 1006],\n",
              "       [1007, 1008, 1009]])"
            ]
          },
          "metadata": {
            "tags": []
          },
          "execution_count": 28
        }
      ]
    },
    {
      "cell_type": "markdown",
      "metadata": {
        "id": "wfKKwOHEt43p",
        "colab_type": "text"
      },
      "source": [
        "### Finding Maximum and Minimum Values\n",
        "#### Problem\n",
        "You need to find the maximum or minimum value in an array.\n",
        "\n",
        "#### Solution\n",
        "Use NumPy's max and min:"
      ]
    },
    {
      "cell_type": "code",
      "metadata": {
        "id": "tIGLVosCt43q",
        "colab_type": "code",
        "colab": {},
        "outputId": "f856c961-6e47-44ce-919f-8f72c2f5918a"
      },
      "source": [
        "# load library\n",
        "import numpy as np\n",
        "\n",
        "# create matrix\n",
        "matrix = np.array([[1, 2, 3],\n",
        "                   [4, 5, 6],\n",
        "                   [7, 8, 9]])\n",
        "\n",
        "# rreturn maximum element\n",
        "np.max(matrix)"
      ],
      "execution_count": 0,
      "outputs": [
        {
          "output_type": "execute_result",
          "data": {
            "text/plain": [
              "9"
            ]
          },
          "metadata": {
            "tags": []
          },
          "execution_count": 29
        }
      ]
    },
    {
      "cell_type": "code",
      "metadata": {
        "id": "nRzZG-yKt43u",
        "colab_type": "code",
        "colab": {},
        "outputId": "a43aa581-350d-41d6-b1d9-1535123c494f"
      },
      "source": [
        "# return minimum element\n",
        "np.min(matrix)"
      ],
      "execution_count": 0,
      "outputs": [
        {
          "output_type": "execute_result",
          "data": {
            "text/plain": [
              "1"
            ]
          },
          "metadata": {
            "tags": []
          },
          "execution_count": 30
        }
      ]
    },
    {
      "cell_type": "markdown",
      "metadata": {
        "id": "R6iPDDB9t43z",
        "colab_type": "text"
      },
      "source": [
        "#### Discussion\n",
        "Often we want to know the maximum and minimum value in an array or subset of an array. This can be accomplished with the max and min methods. Using the axis parameter we can also apply the operation along a certain axis:"
      ]
    },
    {
      "cell_type": "code",
      "metadata": {
        "id": "y5s3znPct430",
        "colab_type": "code",
        "colab": {},
        "outputId": "6fcc9e3a-8c50-4e20-962f-5ef12411211d"
      },
      "source": [
        "# find maximum element in each column\n",
        "np.max(matrix, axis=0)"
      ],
      "execution_count": 0,
      "outputs": [
        {
          "output_type": "execute_result",
          "data": {
            "text/plain": [
              "array([7, 8, 9])"
            ]
          },
          "metadata": {
            "tags": []
          },
          "execution_count": 31
        }
      ]
    },
    {
      "cell_type": "code",
      "metadata": {
        "id": "ZB71pq--t434",
        "colab_type": "code",
        "colab": {},
        "outputId": "6dfaa540-9316-4026-fd05-2c2c5de7a629"
      },
      "source": [
        "# find maximum element in each row\n",
        "np.max(matrix, axis=1)"
      ],
      "execution_count": 0,
      "outputs": [
        {
          "output_type": "execute_result",
          "data": {
            "text/plain": [
              "array([3, 6, 9])"
            ]
          },
          "metadata": {
            "tags": []
          },
          "execution_count": 32
        }
      ]
    },
    {
      "cell_type": "markdown",
      "metadata": {
        "id": "rpka9xsYt439",
        "colab_type": "text"
      },
      "source": [
        "### 1.8 Calculating the Average, Variance, and Standard Deviation\n",
        "\n",
        "#### Problem\n",
        "You want to calculate some descriptive statistics about an array.\n",
        "\n",
        "#### Solution\n",
        "Use NumPy's mean, var, and std:"
      ]
    },
    {
      "cell_type": "code",
      "metadata": {
        "id": "y1v1Jbddt43_",
        "colab_type": "code",
        "colab": {},
        "outputId": "38750a83-f43b-4c74-91b1-4e4e35e20821"
      },
      "source": [
        "# load library\n",
        "import numpy as np\n",
        "\n",
        "# create matrix\n",
        "matrix = np.array([[1, 2, 3],\n",
        "                   [4, 5, 6],\n",
        "                   [7, 8, 9]])\n",
        "\n",
        "# return mean\n",
        "np.mean(matrix)"
      ],
      "execution_count": 0,
      "outputs": [
        {
          "output_type": "execute_result",
          "data": {
            "text/plain": [
              "5.0"
            ]
          },
          "metadata": {
            "tags": []
          },
          "execution_count": 33
        }
      ]
    },
    {
      "cell_type": "code",
      "metadata": {
        "id": "5Os4GNdst44E",
        "colab_type": "code",
        "colab": {},
        "outputId": "066dea50-0f8b-400c-c0f4-ae2240aefed0"
      },
      "source": [
        "# return variance\n",
        "np.var(matrix)"
      ],
      "execution_count": 0,
      "outputs": [
        {
          "output_type": "execute_result",
          "data": {
            "text/plain": [
              "6.666666666666667"
            ]
          },
          "metadata": {
            "tags": []
          },
          "execution_count": 34
        }
      ]
    },
    {
      "cell_type": "code",
      "metadata": {
        "id": "v3JIVG5Zt44K",
        "colab_type": "code",
        "colab": {},
        "outputId": "471b7a72-a133-4ecc-800c-88ab9a7ce813"
      },
      "source": [
        "# return standard deviation\n",
        "np.std(matrix)"
      ],
      "execution_count": 0,
      "outputs": [
        {
          "output_type": "execute_result",
          "data": {
            "text/plain": [
              "2.581988897471611"
            ]
          },
          "metadata": {
            "tags": []
          },
          "execution_count": 35
        }
      ]
    },
    {
      "cell_type": "markdown",
      "metadata": {
        "id": "5dEZUrlyt44N",
        "colab_type": "text"
      },
      "source": [
        "#### Discussion\n",
        "Just like with max and min, we can easily get descriptive statistics about the whole matrix or do calculations alon a single axis:"
      ]
    },
    {
      "cell_type": "code",
      "metadata": {
        "id": "g2PoAi2tt44O",
        "colab_type": "code",
        "colab": {},
        "outputId": "7a28078f-cf66-4476-9aa2-c0435615fa7d"
      },
      "source": [
        "# find the mean value in each column\n",
        "np.mean(matrix, axis=0)"
      ],
      "execution_count": 0,
      "outputs": [
        {
          "output_type": "execute_result",
          "data": {
            "text/plain": [
              "array([4., 5., 6.])"
            ]
          },
          "metadata": {
            "tags": []
          },
          "execution_count": 36
        }
      ]
    },
    {
      "cell_type": "markdown",
      "metadata": {
        "id": "e2hazvj-t44S",
        "colab_type": "text"
      },
      "source": [
        "### 1.9 Reshaping Arrays\n",
        "#### Problem\n",
        "You want to change the shape (number of rows and columns) of an array without changing the element values.\n",
        "\n",
        "#### Solution\n",
        "Use NumPy's reshape:"
      ]
    },
    {
      "cell_type": "code",
      "metadata": {
        "id": "SptnHNykt44X",
        "colab_type": "code",
        "colab": {},
        "outputId": "27dd7591-35a1-4dd2-a886-efceba8e1af8"
      },
      "source": [
        "# load library\n",
        "import numpy as np\n",
        "\n",
        "# create 4x3 matrix\n",
        "matrix = np.array([[1, 2, 3],\n",
        "                   [4, 5, 6],\n",
        "                   [7, 8, 9],\n",
        "                   [10, 11, 12]])\n",
        "\n",
        "# reshape matrix into 2x6 matrix\n",
        "matrix.reshape(2, 6)"
      ],
      "execution_count": 0,
      "outputs": [
        {
          "output_type": "execute_result",
          "data": {
            "text/plain": [
              "array([[ 1,  2,  3,  4,  5,  6],\n",
              "       [ 7,  8,  9, 10, 11, 12]])"
            ]
          },
          "metadata": {
            "tags": []
          },
          "execution_count": 37
        }
      ]
    },
    {
      "cell_type": "markdown",
      "metadata": {
        "id": "FMEjy14yt44a",
        "colab_type": "text"
      },
      "source": [
        "#### Discussion\n",
        "reshape allows us to restructure an array so that we maintain the same data but it is organized as a different number of rows and columns. The only requirement is that the shape of the original and new matrix contain the same number of elements (i.e., the same size). We can see the size of a matrix using size:"
      ]
    },
    {
      "cell_type": "code",
      "metadata": {
        "id": "W-0PWiJ3t44b",
        "colab_type": "code",
        "colab": {},
        "outputId": "682a4be0-c823-4281-cbda-d5233b62e298"
      },
      "source": [
        "matrix.size"
      ],
      "execution_count": 0,
      "outputs": [
        {
          "output_type": "execute_result",
          "data": {
            "text/plain": [
              "12"
            ]
          },
          "metadata": {
            "tags": []
          },
          "execution_count": 38
        }
      ]
    },
    {
      "cell_type": "markdown",
      "metadata": {
        "id": "bMzykfGgt44e",
        "colab_type": "text"
      },
      "source": [
        "One useful argument in reshape is -1, which effectively means “as many as needed,” so reshape(-1, 1) means one row and as many columns as needed:"
      ]
    },
    {
      "cell_type": "code",
      "metadata": {
        "id": "hiojHcGRt44e",
        "colab_type": "code",
        "colab": {},
        "outputId": "09d05261-dd12-490d-8bf0-80a3fe8bf84f"
      },
      "source": [
        "matrix.reshape(1, -1)"
      ],
      "execution_count": 0,
      "outputs": [
        {
          "output_type": "execute_result",
          "data": {
            "text/plain": [
              "array([[ 1,  2,  3,  4,  5,  6,  7,  8,  9, 10, 11, 12]])"
            ]
          },
          "metadata": {
            "tags": []
          },
          "execution_count": 39
        }
      ]
    },
    {
      "cell_type": "markdown",
      "metadata": {
        "id": "W_BwE3But44k",
        "colab_type": "text"
      },
      "source": [
        "Finally, if we provide one integer, reshape will return a 1D array of that length:"
      ]
    },
    {
      "cell_type": "code",
      "metadata": {
        "id": "wGFb4tSft44k",
        "colab_type": "code",
        "colab": {},
        "outputId": "f72cf908-4844-44c6-a970-00d6f2cd3c0a"
      },
      "source": [
        "matrix.reshape(12)"
      ],
      "execution_count": 0,
      "outputs": [
        {
          "output_type": "execute_result",
          "data": {
            "text/plain": [
              "array([ 1,  2,  3,  4,  5,  6,  7,  8,  9, 10, 11, 12])"
            ]
          },
          "metadata": {
            "tags": []
          },
          "execution_count": 40
        }
      ]
    },
    {
      "cell_type": "markdown",
      "metadata": {
        "id": "a0ZvFOwAt44o",
        "colab_type": "text"
      },
      "source": [
        "### 1.10 Transposing a Vector or Matrix\n",
        "#### Problem\n",
        "You need to transpose a vector or matrix\n",
        "\n",
        "#### Solution\n",
        "Use the T method:"
      ]
    },
    {
      "cell_type": "code",
      "metadata": {
        "id": "1CBfX4c7t44p",
        "colab_type": "code",
        "colab": {},
        "outputId": "1c91747f-d79c-4708-8b3e-ec26151bd4b2"
      },
      "source": [
        "# load library\n",
        "import numpy as np\n",
        "\n",
        "# create matrix\n",
        "matrix = np.array([[1, 2, 3],\n",
        "                   [4, 5, 6],\n",
        "                   [7, 8, 9]])\n",
        "\n",
        "# transpose matrix\n",
        "matrix.T"
      ],
      "execution_count": 0,
      "outputs": [
        {
          "output_type": "execute_result",
          "data": {
            "text/plain": [
              "array([[1, 4, 7],\n",
              "       [2, 5, 8],\n",
              "       [3, 6, 9]])"
            ]
          },
          "metadata": {
            "tags": []
          },
          "execution_count": 41
        }
      ]
    },
    {
      "cell_type": "markdown",
      "metadata": {
        "id": "E6_dKzPxt44u",
        "colab_type": "text"
      },
      "source": [
        "Transposing is a common operation in linear algebra where the column and row indices of each element are swapped. One nuanced point that is typically overlooked outside of a linear algebra class is that, technically, a vector cannot be transposed because it is just a collection of values:"
      ]
    },
    {
      "cell_type": "code",
      "metadata": {
        "id": "IWmiOHz8t44v",
        "colab_type": "code",
        "colab": {},
        "outputId": "45db3b2f-b244-492d-8c84-002b9c58ea58"
      },
      "source": [
        "# transpose vector\n",
        "np.array([1, 2, 3, 4, 5, 6]).T"
      ],
      "execution_count": 0,
      "outputs": [
        {
          "output_type": "execute_result",
          "data": {
            "text/plain": [
              "array([1, 2, 3, 4, 5, 6])"
            ]
          },
          "metadata": {
            "tags": []
          },
          "execution_count": 42
        }
      ]
    },
    {
      "cell_type": "markdown",
      "metadata": {
        "id": "P1SAMwmet44y",
        "colab_type": "text"
      },
      "source": [
        "However, it is common to refer to transposing a vector as converting a row vector to a column vector (notice the second pair of brackets) or vice versa:"
      ]
    },
    {
      "cell_type": "code",
      "metadata": {
        "id": "H4bCqKtwt44z",
        "colab_type": "code",
        "colab": {},
        "outputId": "3cea8649-f511-4416-cddc-a187df878fff"
      },
      "source": [
        "# transpose row vector\n",
        "np.array([[1, 2, 3, 4, 5, 6]]).T"
      ],
      "execution_count": 0,
      "outputs": [
        {
          "output_type": "execute_result",
          "data": {
            "text/plain": [
              "array([[1],\n",
              "       [2],\n",
              "       [3],\n",
              "       [4],\n",
              "       [5],\n",
              "       [6]])"
            ]
          },
          "metadata": {
            "tags": []
          },
          "execution_count": 43
        }
      ]
    },
    {
      "cell_type": "markdown",
      "metadata": {
        "id": "Pne7Mwsrt445",
        "colab_type": "text"
      },
      "source": [
        "### 1.11 Flattening a Matrix\n",
        "#### Problem\n",
        "You need to transform a matrix into a one-dimensional array.\n",
        "\n",
        "#### Solution\n",
        "Use flatten:"
      ]
    },
    {
      "cell_type": "code",
      "metadata": {
        "id": "5wxwQoPVt449",
        "colab_type": "code",
        "colab": {},
        "outputId": "43ebdb0b-6632-4d6b-ff85-a532e0427ddd"
      },
      "source": [
        "# load library\n",
        "import numpy as np\n",
        "\n",
        "# create matrix\n",
        "matrix = np.array([[1, 2, 3],\n",
        "                   [4, 5, 6],\n",
        "                   [7, 8, 9]])\n",
        "\n",
        "# flatten matrix\n",
        "matrix.flatten()"
      ],
      "execution_count": 0,
      "outputs": [
        {
          "output_type": "execute_result",
          "data": {
            "text/plain": [
              "array([1, 2, 3, 4, 5, 6, 7, 8, 9])"
            ]
          },
          "metadata": {
            "tags": []
          },
          "execution_count": 44
        }
      ]
    },
    {
      "cell_type": "markdown",
      "metadata": {
        "id": "mG154tyJt45A",
        "colab_type": "text"
      },
      "source": [
        "#### Discussion\n",
        "flatten is a simple method to transform a matrix into a one-dimensional array. Alternatively, we can use reshape to create a row vector:"
      ]
    },
    {
      "cell_type": "code",
      "metadata": {
        "id": "mOSoVIdMt45B",
        "colab_type": "code",
        "colab": {},
        "outputId": "bce8d24b-4d66-49ab-bf54-ae156d951ecf"
      },
      "source": [
        "matrix.reshape(1, -1)"
      ],
      "execution_count": 0,
      "outputs": [
        {
          "output_type": "execute_result",
          "data": {
            "text/plain": [
              "array([[1, 2, 3, 4, 5, 6, 7, 8, 9]])"
            ]
          },
          "metadata": {
            "tags": []
          },
          "execution_count": 45
        }
      ]
    },
    {
      "cell_type": "markdown",
      "metadata": {
        "id": "xVqwU9xet45E",
        "colab_type": "text"
      },
      "source": [
        "### 1.12 Finding the Rank of a Matrix\n",
        "#### Problem\n",
        "You need to know the rank of a matrix\n",
        "\n",
        "#### Solution\n",
        "Use NumPy's linear algebra method matrix_rank:"
      ]
    },
    {
      "cell_type": "code",
      "metadata": {
        "id": "TuyH-Zwft45G",
        "colab_type": "code",
        "colab": {},
        "outputId": "9c4fa4d3-2a5a-40a2-c327-3ff3b701e4f0"
      },
      "source": [
        "# load library\n",
        "import numpy as np\n",
        "\n",
        "# create matrix\n",
        "matrix = np.array([[1, 1, 1],\n",
        "                   [1, 1, 10],\n",
        "                   [1, 1, 15]])\n",
        "\n",
        "# return matrix rank\n",
        "np.linalg.matrix_rank(matrix)"
      ],
      "execution_count": 0,
      "outputs": [
        {
          "output_type": "execute_result",
          "data": {
            "text/plain": [
              "2"
            ]
          },
          "metadata": {
            "tags": []
          },
          "execution_count": 46
        }
      ]
    },
    {
      "cell_type": "markdown",
      "metadata": {
        "id": "nAzfok1-t45K",
        "colab_type": "text"
      },
      "source": [
        "#### Discussion\n",
        "The rank of a matrix is the dimensions of the vector space spanned by its columns or rows. Finding the rank of a matrix is easy in NumPy thanks to matrix_rank."
      ]
    },
    {
      "cell_type": "markdown",
      "metadata": {
        "id": "rcy-8DE_t45K",
        "colab_type": "text"
      },
      "source": [
        "#### See Also\n",
        "* The Rank of a Matrix, CliffsNotes (https://www.cliffsnotes.com/study-guides/algebra/linear-algebra/real-euclidean-vector-spaces/the-rank-of-a-matrix)"
      ]
    },
    {
      "cell_type": "markdown",
      "metadata": {
        "id": "g1F-HjTRt45L",
        "colab_type": "text"
      },
      "source": [
        "### 1.13 Calculating the Determinant\n",
        "#### Problem\n",
        "You need to know the determinant of a matrix\n",
        "\n",
        "#### Solution\n",
        "Use NumPy's linear algebra method det:"
      ]
    },
    {
      "cell_type": "code",
      "metadata": {
        "id": "F-RA783ut45M",
        "colab_type": "code",
        "colab": {},
        "outputId": "25dbb774-91e2-48d3-f86f-2603b9f5f771"
      },
      "source": [
        "# load library\n",
        "import numpy as np\n",
        "\n",
        "# create matrix\n",
        "matrix = np.array([[1, 2, 3],\n",
        "                   [2, 4, 6],\n",
        "                   [3, 8, 9]])\n",
        "\n",
        "# return the determinant of matrix\n",
        "np.linalg.det(matrix)"
      ],
      "execution_count": 0,
      "outputs": [
        {
          "output_type": "execute_result",
          "data": {
            "text/plain": [
              "0.0"
            ]
          },
          "metadata": {
            "tags": []
          },
          "execution_count": 48
        }
      ]
    },
    {
      "cell_type": "markdown",
      "metadata": {
        "id": "ZhEmdbGEt45P",
        "colab_type": "text"
      },
      "source": [
        "#### Discussion\n",
        "It can sometimes be useful to calculate the determinant of a matrix. NumPy makes this easy with det\n",
        "\n",
        "#### See Also\n",
        "* The determinant | Essence of linear algebra, chapter 5, 3Blue1Brown (https://www.youtube.com/watch?v=Ip3X9LOh2dk)\n",
        "* Determinant, Wolfram MathWorld (http://mathworld.wolfram.com/Determinant.html)\n",
        "\n",
        "### 1.14 Getting the Diagonal of a Matrix\n",
        "#### Problem\n",
        "You need to get the diagonal elements of matrix.\n",
        "\n",
        "#### Solution\n",
        "Use diagonal:"
      ]
    },
    {
      "cell_type": "code",
      "metadata": {
        "id": "cd213X0Mt45R",
        "colab_type": "code",
        "colab": {},
        "outputId": "967187f1-f0f7-466e-b953-e11c8aaa679b"
      },
      "source": [
        "# load library\n",
        "import numpy as np\n",
        "\n",
        "# create matrix\n",
        "matrix = np.array([[1, 2, 3],\n",
        "                   [2, 4, 6],\n",
        "                   [3, 8, 9]])\n",
        "\n",
        "# return diagonal elements\n",
        "matrix.diagonal()"
      ],
      "execution_count": 0,
      "outputs": [
        {
          "output_type": "execute_result",
          "data": {
            "text/plain": [
              "array([1, 4, 9])"
            ]
          },
          "metadata": {
            "tags": []
          },
          "execution_count": 49
        }
      ]
    },
    {
      "cell_type": "markdown",
      "metadata": {
        "id": "mkoIA2XXt45V",
        "colab_type": "text"
      },
      "source": [
        "#### Discussion\n",
        "NumPy makes getting the diagonal elements of a matrix easy with diagonal. It is also possible to get a diagonal off from the main diagonal by using the offset parameter:"
      ]
    },
    {
      "cell_type": "code",
      "metadata": {
        "id": "4uohWLYOt45W",
        "colab_type": "code",
        "colab": {},
        "outputId": "b877f672-acc2-4294-8ec4-3a4190141fb7"
      },
      "source": [
        "# return diagonal one above the main diagonal\n",
        "matrix.diagonal(offset=1)"
      ],
      "execution_count": 0,
      "outputs": [
        {
          "output_type": "execute_result",
          "data": {
            "text/plain": [
              "array([2, 6])"
            ]
          },
          "metadata": {
            "tags": []
          },
          "execution_count": 50
        }
      ]
    },
    {
      "cell_type": "code",
      "metadata": {
        "id": "Jg3k9q-ft45Z",
        "colab_type": "code",
        "colab": {},
        "outputId": "a10a292b-e427-4aab-b139-ffac3de5a804"
      },
      "source": [
        "# return diagonal one below the main diagonal\n",
        "matrix.diagonal(offset=-1)"
      ],
      "execution_count": 0,
      "outputs": [
        {
          "output_type": "execute_result",
          "data": {
            "text/plain": [
              "array([2, 8])"
            ]
          },
          "metadata": {
            "tags": []
          },
          "execution_count": 52
        }
      ]
    },
    {
      "cell_type": "markdown",
      "metadata": {
        "id": "ER8a4XkZt45d",
        "colab_type": "text"
      },
      "source": [
        "### 1.15 Calculating the Trace of a Matrix\n",
        "#### Problem\n",
        "You need to calculate the trace of a matrix\n",
        "\n",
        "#### Solution\n",
        "Use trace:"
      ]
    },
    {
      "cell_type": "code",
      "metadata": {
        "id": "m_xwd08pt45d",
        "colab_type": "code",
        "colab": {},
        "outputId": "e84915cf-e921-4bf6-a96b-c123aeb70868"
      },
      "source": [
        "# load library\n",
        "import numpy as np\n",
        "\n",
        "# create matrix\n",
        "matrix = np.array([[1, 2, 3],\n",
        "                   [2, 4, 6],\n",
        "                   [3, 8, 9]])\n",
        "\n",
        "# return trace\n",
        "matrix.trace()"
      ],
      "execution_count": 0,
      "outputs": [
        {
          "output_type": "execute_result",
          "data": {
            "text/plain": [
              "14"
            ]
          },
          "metadata": {
            "tags": []
          },
          "execution_count": 53
        }
      ]
    },
    {
      "cell_type": "markdown",
      "metadata": {
        "id": "oFf5LWedt45j",
        "colab_type": "text"
      },
      "source": [
        "#### Discussion\n",
        "The trace of a matrix is the sum of the diagonal elements and is often used under the hood in machine learning methods. Given a NumPy multidimensional array, we can calculate the trace using trace. We can also return the diagonal of a matrix and calculate its sum:"
      ]
    },
    {
      "cell_type": "code",
      "metadata": {
        "id": "m4qyXzLft45k",
        "colab_type": "code",
        "colab": {},
        "outputId": "3e68b8a3-6d93-4692-d3fb-aea579e32c4a"
      },
      "source": [
        "# return diagonal and sum elements\n",
        "sum(matrix.diagonal())"
      ],
      "execution_count": 0,
      "outputs": [
        {
          "output_type": "execute_result",
          "data": {
            "text/plain": [
              "14"
            ]
          },
          "metadata": {
            "tags": []
          },
          "execution_count": 54
        }
      ]
    },
    {
      "cell_type": "markdown",
      "metadata": {
        "id": "EYOgBR-It45p",
        "colab_type": "text"
      },
      "source": [
        "#### See Also\n",
        "* The Trace of a Square Matrix (http://mathonline.wikidot.com/the-trace-of-a-square-matrix)"
      ]
    },
    {
      "cell_type": "markdown",
      "metadata": {
        "id": "b92tcDtkt45q",
        "colab_type": "text"
      },
      "source": [
        "### 1.16 Finding Eigenvalues and Eigenvectors\n",
        "#### Problem\n",
        "You need to find the eigenvalues and eigenvectors of a square matrix.\n",
        "\n",
        "#### Solution\n",
        "Use NumPy's linalg.eig:"
      ]
    },
    {
      "cell_type": "code",
      "metadata": {
        "id": "AjxXfWDyt45r",
        "colab_type": "code",
        "colab": {},
        "outputId": "171f6cd3-6f02-480b-c118-0a4f155c9cfa"
      },
      "source": [
        "# load library\n",
        "import numpy as np\n",
        "\n",
        "# create matrix\n",
        "matrix = np.array([[1, -1, 3],\n",
        "                   [1, 1, 6],\n",
        "                   [3, 8, 9]])\n",
        "\n",
        "# calculate eigenvalues and eigenvectors\n",
        "eigenvalues, eigenvectors = np.linalg.eig(matrix)\n",
        "\n",
        "# view eigenvalues\n",
        "eigenvalues"
      ],
      "execution_count": 0,
      "outputs": [
        {
          "output_type": "execute_result",
          "data": {
            "text/plain": [
              "array([13.55075847,  0.74003145, -3.29078992])"
            ]
          },
          "metadata": {
            "tags": []
          },
          "execution_count": 56
        }
      ]
    },
    {
      "cell_type": "code",
      "metadata": {
        "id": "zTxIivTot45u",
        "colab_type": "code",
        "colab": {},
        "outputId": "3aaadcde-7f7b-4c9e-ce26-0a92c0af81fc"
      },
      "source": [
        "# view eigenvectors\n",
        "eigenvectors"
      ],
      "execution_count": 0,
      "outputs": [
        {
          "output_type": "execute_result",
          "data": {
            "text/plain": [
              "array([[-0.17622017, -0.96677403, -0.53373322],\n",
              "       [-0.435951  ,  0.2053623 , -0.64324848],\n",
              "       [-0.88254925,  0.15223105,  0.54896288]])"
            ]
          },
          "metadata": {
            "tags": []
          },
          "execution_count": 57
        }
      ]
    },
    {
      "cell_type": "markdown",
      "metadata": {
        "id": "jFqVKWzkt45w",
        "colab_type": "text"
      },
      "source": [
        "#### Discussion\n",
        "\n",
        "Eigenvectors are widely used in machine learning libraries. Intuitively, given a linear transformation represented by a matrix, $A$, eigenvectors are vectors that, when that transformation is applied, change only in scale (not direction). More formally:\n",
        "\n",
        "$$A v = λ v$$\n",
        "\n",
        "where $A$ is a square matrix, $λ$ contains the eigenvalues and $v$ contains the eigenvectors. In NumPy’s linear algebra toolset, ```eig``` lets us calculate the eigenvalues, and eigenvectors of any square matrix.\n",
        "\n",
        "#### See Also\n",
        "* Eigenvectors and Eigenvalues Explained Visually, Setosa.io (http://setosa.io/ev/eigenvectors-and-eigenvalues/)\n",
        "* Eigenvectors and eigenvalues | Essence of linear algebra, Chapter 10, 3Blue1Brown (https://www.youtube.com/watch?v=PFDu9oVAE-g)\n",
        "\n",
        "### 1.17 Calculating Dot Products\n",
        "#### Problem\n",
        "You need to calculate the dot product of two vectors.\n",
        "\n",
        "#### Solution\n",
        "Use NumPy's dot:"
      ]
    },
    {
      "cell_type": "code",
      "metadata": {
        "id": "Z_AHNfv_t45y",
        "colab_type": "code",
        "colab": {},
        "outputId": "346650df-568e-4d64-9a15-42ce2fb77e7e"
      },
      "source": [
        "# load library\n",
        "import numpy as np\n",
        "\n",
        "# create two vectors\n",
        "vector_a = np.array([1, 2, 3])\n",
        "vector_b = np.array([4, 5, 6])\n",
        "\n",
        "# calculate dot product\n",
        "np.dot(vector_a, vector_b)"
      ],
      "execution_count": 0,
      "outputs": [
        {
          "output_type": "execute_result",
          "data": {
            "text/plain": [
              "32"
            ]
          },
          "metadata": {
            "tags": []
          },
          "execution_count": 60
        }
      ]
    },
    {
      "cell_type": "markdown",
      "metadata": {
        "id": "Dsjrzr8Mt452",
        "colab_type": "text"
      },
      "source": [
        "#### Discussion\n",
        "The dot product of two vectors, a and b, is defined as:\n",
        "\n",
        "$$\\sum(a_i * b_i)$$\n",
        "\n",
        "where $a_i$ is the ith element of vector a. We can use NumPy’s dot class to calculate the dot product. Alternatively, in Python 3.5+ we can use the new ```@``` operator:"
      ]
    },
    {
      "cell_type": "code",
      "metadata": {
        "id": "EzOoD0kct452",
        "colab_type": "code",
        "colab": {},
        "outputId": "d4bc22d4-1635-4d1c-b773-27f43f0c2def"
      },
      "source": [
        "# calculate dot product\n",
        "vector_a @ vector_b"
      ],
      "execution_count": 0,
      "outputs": [
        {
          "output_type": "execute_result",
          "data": {
            "text/plain": [
              "32"
            ]
          },
          "metadata": {
            "tags": []
          },
          "execution_count": 61
        }
      ]
    },
    {
      "cell_type": "markdown",
      "metadata": {
        "id": "JLZdjuu9t455",
        "colab_type": "text"
      },
      "source": [
        "#### See Also\n",
        "* Vector dot product and vector length, Khan Academy (https://www.khanacademy.org/math/linear-algebra/vectors-and-spaces/dot-cross-products/v/vector-dot-product-and-vector-length)\n",
        "* Dot Product, Paul’s Online Math Notes (http://tutorial.math.lamar.edu/Classes/CalcII/DotProduct.aspx)\n",
        "\n",
        "### 1.18 Adding and Subtracting Matricies\n",
        "#### Problem\n",
        "You want to add or subtract two matricies\n",
        "\n",
        "#### Solution\n",
        "Use NumPy's add and subtract:"
      ]
    },
    {
      "cell_type": "code",
      "metadata": {
        "id": "yTTmvMLPt455",
        "colab_type": "code",
        "colab": {},
        "outputId": "7c16d855-5f17-4366-bfc3-05f714e73d30"
      },
      "source": [
        "# load library\n",
        "import numpy as np\n",
        "\n",
        "# create matricies\n",
        "matrix_a = np.array([[1, 1, 1],\n",
        "                     [1, 1, 1],\n",
        "                     [1, 1, 2]])\n",
        "\n",
        "matrix_b = np.array([[1, 3, 1],\n",
        "                     [1, 3, 1],\n",
        "                     [1, 3, 8]])\n",
        "\n",
        "# add two matricies\n",
        "np.add(matrix_a, matrix_b)"
      ],
      "execution_count": 0,
      "outputs": [
        {
          "output_type": "execute_result",
          "data": {
            "text/plain": [
              "array([[ 2,  4,  2],\n",
              "       [ 2,  4,  2],\n",
              "       [ 2,  4, 10]])"
            ]
          },
          "metadata": {
            "tags": []
          },
          "execution_count": 76
        }
      ]
    },
    {
      "cell_type": "code",
      "metadata": {
        "id": "DTgVdILFt459",
        "colab_type": "code",
        "colab": {},
        "outputId": "2844af1a-1b6d-44f8-883b-bf1fbdce9838"
      },
      "source": [
        "# subtract two matrices\n",
        "np.subtract(matrix_a, matrix_b)"
      ],
      "execution_count": 0,
      "outputs": [
        {
          "output_type": "execute_result",
          "data": {
            "text/plain": [
              "array([[ 0, -2,  0],\n",
              "       [ 0, -2,  0],\n",
              "       [ 0, -2, -6]])"
            ]
          },
          "metadata": {
            "tags": []
          },
          "execution_count": 77
        }
      ]
    },
    {
      "cell_type": "markdown",
      "metadata": {
        "id": "LF8KxsCht46C",
        "colab_type": "text"
      },
      "source": [
        "#### Discussion\n",
        "Alternatively, we can simply use the + and - operators:"
      ]
    },
    {
      "cell_type": "code",
      "metadata": {
        "id": "jG-uHerNt46C",
        "colab_type": "code",
        "colab": {},
        "outputId": "6689347b-32ba-4b1b-dd60-19d1c4f38dd9"
      },
      "source": [
        "# add two matricies\n",
        "matrix_a + matrix_b"
      ],
      "execution_count": 0,
      "outputs": [
        {
          "output_type": "execute_result",
          "data": {
            "text/plain": [
              "array([[ 2,  4,  2],\n",
              "       [ 2,  4,  2],\n",
              "       [ 2,  4, 10]])"
            ]
          },
          "metadata": {
            "tags": []
          },
          "execution_count": 78
        }
      ]
    },
    {
      "cell_type": "markdown",
      "metadata": {
        "id": "190f38Cmt46F",
        "colab_type": "text"
      },
      "source": [
        "### 1.19 Multiplying Matricies\n",
        "#### Problem\n",
        "You want to multiply two matrices.\n",
        "\n",
        "#### Solution\n",
        "Use NumPy's dot:"
      ]
    },
    {
      "cell_type": "code",
      "metadata": {
        "id": "dHj1TMSyt46G",
        "colab_type": "code",
        "colab": {},
        "outputId": "d829223d-9b43-4afc-cf2f-c5657144c861"
      },
      "source": [
        "# load library\n",
        "import numpy as np\n",
        "\n",
        "# create matrices\n",
        "matrix_a = np.array([[1, 1],\n",
        "                     [1, 2]])\n",
        "\n",
        "matrix_b = np.array([[1, 3],\n",
        "                     [1, 2]])\n",
        "\n",
        "# multiply two matrices\n",
        "np.dot(matrix_a, matrix_b)"
      ],
      "execution_count": 0,
      "outputs": [
        {
          "output_type": "execute_result",
          "data": {
            "text/plain": [
              "array([[2, 5],\n",
              "       [3, 7]])"
            ]
          },
          "metadata": {
            "tags": []
          },
          "execution_count": 79
        }
      ]
    },
    {
      "cell_type": "markdown",
      "metadata": {
        "id": "gPIy9svvt46J",
        "colab_type": "text"
      },
      "source": [
        "#### Discussion\n",
        "Alternatively, in Python 3.5+ we can use the @ operator:"
      ]
    },
    {
      "cell_type": "code",
      "metadata": {
        "id": "czBNYX1Nt46J",
        "colab_type": "code",
        "colab": {},
        "outputId": "62efd904-a837-434b-c35c-8f04c9a6e5d1"
      },
      "source": [
        "# multiply two matrices\n",
        "matrix_a @ matrix_b"
      ],
      "execution_count": 0,
      "outputs": [
        {
          "output_type": "execute_result",
          "data": {
            "text/plain": [
              "array([[2, 5],\n",
              "       [3, 7]])"
            ]
          },
          "metadata": {
            "tags": []
          },
          "execution_count": 80
        }
      ]
    },
    {
      "cell_type": "markdown",
      "metadata": {
        "id": "2kKYW4Knt46M",
        "colab_type": "text"
      },
      "source": [
        "#### See Also\n",
        "* Array vs Matrix Operations, MathWorks (https://www.mathworks.com/help/matlab/matlab_prog/array-vs-matrix-operations.html?requestedDomain=true)"
      ]
    },
    {
      "cell_type": "markdown",
      "metadata": {
        "id": "X026WNVGt46N",
        "colab_type": "text"
      },
      "source": [
        "### 1.20 Inverting a Matrix\n",
        "#### Problem\n",
        "You want to calculate the inverse of a square matrix.\n",
        "\n",
        "#### Solution\n",
        "Use NumPy's linear algebra inv method:"
      ]
    },
    {
      "cell_type": "code",
      "metadata": {
        "id": "Wclh8w93t46P",
        "colab_type": "code",
        "colab": {},
        "outputId": "22a7de5e-320d-453a-eccc-e44c911dec3d"
      },
      "source": [
        "# load library\n",
        "import numpy as np\n",
        "\n",
        "# create matrix\n",
        "matrix = np.array([[1, 4],\n",
        "                  [2, 5]])\n",
        "\n",
        "# calculate inverse of matrix\n",
        "np.linalg.inv(matrix)"
      ],
      "execution_count": 0,
      "outputs": [
        {
          "output_type": "execute_result",
          "data": {
            "text/plain": [
              "array([[-1.66666667,  1.33333333],\n",
              "       [ 0.66666667, -0.33333333]])"
            ]
          },
          "metadata": {
            "tags": []
          },
          "execution_count": 64
        }
      ]
    },
    {
      "cell_type": "markdown",
      "metadata": {
        "id": "eN5Sqdk-t46U",
        "colab_type": "text"
      },
      "source": [
        "#### Discussion\n",
        "The inverse of a square matrix, $A$, is a second matrix $A^{–1}$, such that:\n",
        "\n",
        "$A * A^{-1} = I$\n",
        "\n",
        "where $I$ is the identity matrix. In NumPy we can use linalg.inv to calculate $A^{–1}$ if it exists. To see this in action, we can multiply a matrix by its inverse and the result is the identity matrix:"
      ]
    },
    {
      "cell_type": "code",
      "metadata": {
        "id": "XmKzrUQLt46V",
        "colab_type": "code",
        "colab": {},
        "outputId": "d2fde598-9026-4423-9076-604298e02ea9"
      },
      "source": [
        "matrix @ np.linalg.inv(matrix)"
      ],
      "execution_count": 0,
      "outputs": [
        {
          "output_type": "execute_result",
          "data": {
            "text/plain": [
              "array([[1., 0.],\n",
              "       [0., 1.]])"
            ]
          },
          "metadata": {
            "tags": []
          },
          "execution_count": 65
        }
      ]
    },
    {
      "cell_type": "markdown",
      "metadata": {
        "id": "FiEVKv3Dt46X",
        "colab_type": "text"
      },
      "source": [
        "#### See Also\n",
        "* Inverse of a Matrix (http://www.mathwords.com/i/inverse_of_a_matrix.htm)"
      ]
    },
    {
      "cell_type": "markdown",
      "metadata": {
        "id": "fPHEvYP9t46Z",
        "colab_type": "text"
      },
      "source": [
        "### 1.21 Generating Random Values\n",
        "#### Problem\n",
        "You want to generate pseudorandom values.\n",
        "\n",
        "#### Solution\n",
        "Use NumPy's random:"
      ]
    },
    {
      "cell_type": "code",
      "metadata": {
        "id": "y3zjaGAMt46b",
        "colab_type": "code",
        "colab": {},
        "outputId": "e0f41a26-e60e-4561-de60-b82b6b1b2f8a"
      },
      "source": [
        "# load library\n",
        "import numpy as np\n",
        "\n",
        "# set seed\n",
        "np.random.seed(0)\n",
        "\n",
        "# generate three random floats between 0.0 and 1.0\n",
        "np.random.random(3)"
      ],
      "execution_count": 0,
      "outputs": [
        {
          "output_type": "execute_result",
          "data": {
            "text/plain": [
              "array([0.5488135 , 0.71518937, 0.60276338])"
            ]
          },
          "metadata": {
            "tags": []
          },
          "execution_count": 69
        }
      ]
    },
    {
      "cell_type": "markdown",
      "metadata": {
        "id": "V_4xkeTlt46f",
        "colab_type": "text"
      },
      "source": [
        "#### Discussion\n",
        "NumPy offers a wide variety of means to generate random numbers, many more than can be covered here. In our solution we generated floats; however, it is also common to generate integers:"
      ]
    },
    {
      "cell_type": "code",
      "metadata": {
        "id": "auwwRgrht46f",
        "colab_type": "code",
        "colab": {},
        "outputId": "d8f7227d-12ad-4506-da25-688cc47a0065"
      },
      "source": [
        "# genereate three random integers between 1 and 10\n",
        "np.random.randint(0, 11, 3)"
      ],
      "execution_count": 0,
      "outputs": [
        {
          "output_type": "execute_result",
          "data": {
            "text/plain": [
              "array([3, 7, 9])"
            ]
          },
          "metadata": {
            "tags": []
          },
          "execution_count": 70
        }
      ]
    },
    {
      "cell_type": "markdown",
      "metadata": {
        "id": "fVWAxolst46h",
        "colab_type": "text"
      },
      "source": [
        "Alternatively, we can generate numbers by drawing them from a distribution:"
      ]
    },
    {
      "cell_type": "code",
      "metadata": {
        "id": "vzWY05GOt46i",
        "colab_type": "code",
        "colab": {},
        "outputId": "98b5f2e3-0813-40cc-dd0e-d8f9b6b09b62"
      },
      "source": [
        "# draw three numbers from a normal distribution with mean 0.0\n",
        "# and standard deviation of 1.0\n",
        "np.random.normal(0.0, 1.0, 3)"
      ],
      "execution_count": 0,
      "outputs": [
        {
          "output_type": "execute_result",
          "data": {
            "text/plain": [
              "array([-1.42232584,  1.52006949, -0.29139398])"
            ]
          },
          "metadata": {
            "tags": []
          },
          "execution_count": 71
        }
      ]
    },
    {
      "cell_type": "code",
      "metadata": {
        "id": "vbreG9fPt46m",
        "colab_type": "code",
        "colab": {},
        "outputId": "4f1e29a4-b7cf-4f37-bc4c-6b0f584709d7"
      },
      "source": [
        "# draw three numbers from a logistic distribution with mean 0.0 and scale of 1.0\n",
        "np.random.logistic(0.0, 1.0, 3)"
      ],
      "execution_count": 0,
      "outputs": [
        {
          "output_type": "execute_result",
          "data": {
            "text/plain": [
              "array([-0.98118713, -0.08939902,  1.46416405])"
            ]
          },
          "metadata": {
            "tags": []
          },
          "execution_count": 73
        }
      ]
    },
    {
      "cell_type": "code",
      "metadata": {
        "id": "313Pr-Ant46o",
        "colab_type": "code",
        "colab": {},
        "outputId": "f71bcbc2-0241-4d3a-eff7-15148d4894c4"
      },
      "source": [
        "# draw three numbers greater than or equal to 1.0 and less than 2.0\n",
        "np.random.uniform(1.0, 2.0, 3)"
      ],
      "execution_count": 0,
      "outputs": [
        {
          "output_type": "execute_result",
          "data": {
            "text/plain": [
              "array([1.47997717, 1.3927848 , 1.83607876])"
            ]
          },
          "metadata": {
            "tags": []
          },
          "execution_count": 75
        }
      ]
    },
    {
      "cell_type": "markdown",
      "metadata": {
        "id": "jYYy_KqQt46r",
        "colab_type": "text"
      },
      "source": [
        "Finally, it can sometimes be useful to return the same random numbers multiple times to get predictable, repeatable results. We can do this by setting the “seed” (an integer) of the pseudorandom generator. Random processes with the same seed will always produce the same output. We will use seeds throughout this book so that the code you see in the book and the code you run on your computer produces the same results."
      ]
    },
    {
      "cell_type": "code",
      "metadata": {
        "id": "BKSEsvugt46s",
        "colab_type": "code",
        "colab": {}
      },
      "source": [
        ""
      ],
      "execution_count": 0,
      "outputs": []
    }
  ]
}